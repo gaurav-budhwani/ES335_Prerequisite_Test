{
  "nbformat": 4,
  "nbformat_minor": 0,
  "metadata": {
    "colab": {
      "provenance": []
    },
    "kernelspec": {
      "name": "python3",
      "display_name": "Python 3"
    },
    "language_info": {
      "name": "python"
    }
  },
  "cells": [
    {
      "cell_type": "code",
      "execution_count": 4,
      "metadata": {
        "id": "wTb5T543TnDF"
      },
      "outputs": [],
      "source": [
        "import numpy as np\n",
        "import matplotlib.pyplot as plt\n",
        "import pandas as pd"
      ]
    },
    {
      "cell_type": "markdown",
      "source": [
        "## **Question 1** Number of Additions and Multiplications required while performing Multiplication of Matrices $M_{n \\times k}$ and $N_{k \\times m}$ <br> Matrix $M$ and $N$ can be represented as:\n",
        "\n",
        "\\begin{equation}\n",
        "M_{n \\times k} = \\begin{bmatrix}\n",
        "   M_{11} & M_{12} & \\cdots & M_{1k} \\\\\n",
        "   M_{21} & M_{22} & \\cdots & M_{2k} \\\\\n",
        "   \\vdots  & \\vdots  & \\ddots & \\vdots  \\\\\n",
        "   M_{n1} & M_{n2} & \\cdots & M_{nk}\n",
        " \\end{bmatrix}\n",
        "\\end{equation}\n",
        "\n",
        "\\begin{equation}\n",
        "N_{k \\times m} = \\begin{bmatrix}\n",
        "   N_{11} & N_{12} & \\cdots & N_{1m} \\\\\n",
        "   N_{21} & N_{22} & \\cdots & N_{2m} \\\\\n",
        "   \\vdots  & \\vdots  & \\ddots & \\vdots  \\\\\n",
        "   N_{k1} & N_{k2} & \\cdots & N_{km}\n",
        " \\end{bmatrix}\n",
        "\\end{equation}\n",
        "\n",
        "The resultant matrix $R$ has dimensions of $n \\times m$. In total all of the $nm$ entries in the resultant matrix are calculated as follows:<br>\n",
        "$R_{ij} = M_{i1}N_{1j} + M_{i2}N_{2j} + \\cdots + M_{ik}N_{kj}$ which can be simplified as <br>\n",
        "$R_{ij} = \\sum_{p=1}^{k}M_{ip} N_{pj}$ <br>\n",
        "Each calculate each element in the matrix we'll have to perform $k$ multiplications and $k - 1$ addiions and since there are $nm$ elements, therefore we'll have $nmk$ multiplications and $nm(k - 1)$ additions.\n",
        "\n"
      ],
      "metadata": {
        "id": "sNSlnhaiVOb_"
      }
    },
    {
      "cell_type": "markdown",
      "source": [
        "## **Question 2** Matrix Multiplication Implementation and Comparision"
      ],
      "metadata": {
        "id": "uWA06WhmdRmt"
      }
    },
    {
      "cell_type": "code",
      "source": [
        "def matrix_multiplication(M, N):\n",
        "    n = len(M)\n",
        "    k = len(N)\n",
        "    m = len(N[0])\n",
        "    R = np.zeros((n, m)) # initialising with an empty array of the size n x m\n",
        "    for i in range(n):\n",
        "        for j in range(m):\n",
        "            for l in range(k):\n",
        "                R[i, j] += M[i, l] * N[l, j]\n",
        "    return R\n",
        "\n",
        "M = np.array([[4, 1, 7],\n",
        "    [4, 6, 1],\n",
        "    [0, 9, 1],\n",
        "    [9, 5, 6]])\n",
        "\n",
        "N = np.array([[5, 6],\n",
        "    [1, 7],\n",
        "    [0, 0]])\n",
        "\n",
        "R = matrix_multiplication(M, N)\n",
        "\n",
        "R_inbuilt = np.dot(M, N)\n",
        "print(\"Matrix M:\\n\")\n",
        "print(M)\n",
        "print()\n",
        "print(\"Matrix N:\\n\")\n",
        "print(N)\n",
        "print()\n",
        "print(\"Matrix R:\\n\")\n",
        "print(R)\n",
        "print()\n",
        "print(R_inbuilt)"
      ],
      "metadata": {
        "colab": {
          "base_uri": "https://localhost:8080/"
        },
        "id": "WuMHm5rzWNVU",
        "outputId": "5a18ca26-b224-45d4-bee8-dd83751e1cd7"
      },
      "execution_count": null,
      "outputs": [
        {
          "output_type": "stream",
          "name": "stdout",
          "text": [
            "Matrix M:\n",
            "\n",
            "[[4 1 7]\n",
            " [4 6 1]\n",
            " [0 9 1]\n",
            " [9 5 6]]\n",
            "\n",
            "Matrix N:\n",
            "\n",
            "[[5 6]\n",
            " [1 7]\n",
            " [0 0]]\n",
            "\n",
            "Matrix R:\n",
            "\n",
            "[[21. 31.]\n",
            " [26. 66.]\n",
            " [ 9. 63.]\n",
            " [50. 89.]]\n",
            "\n",
            "[[21 31]\n",
            " [26 66]\n",
            " [ 9 63]\n",
            " [50 89]]\n"
          ]
        }
      ]
    },
    {
      "cell_type": "markdown",
      "source": [
        "### Time Comparision\n",
        "Alot of the Linear Algebra operations in numpy are pre-computed, highly optimised functions written in $C$ or $Fortran$, so while calling calling them its executing a single, fast operation in a compiled langiage. Whereas, the list-of-lists aproach uses nested loops which causes increase in time since python is an interpreted language (line-by-line execution) which means there is significant overhead for every calculation (memory management, object type checking, etc.) which adds up for large number of calculations."
      ],
      "metadata": {
        "id": "L3A4-336hPxS"
      }
    },
    {
      "cell_type": "code",
      "source": [
        "# Generating Random matrices\n",
        "n, k, m = 110, 75, 50\n",
        "M = np.random.randint(10, size=(n, k))\n",
        "N = np.random.randint(10, size=(k, m))\n",
        "\n",
        "%time R = matrix_multiplication(M, N)\n",
        "%time R_inbuilt = np.dot(M, N)"
      ],
      "metadata": {
        "colab": {
          "base_uri": "https://localhost:8080/"
        },
        "id": "HxfXl7-YgtMB",
        "outputId": "fefa073a-4710-4981-cfdd-f3a192d8ecc3"
      },
      "execution_count": null,
      "outputs": [
        {
          "output_type": "stream",
          "name": "stdout",
          "text": [
            "CPU times: user 203 ms, sys: 0 ns, total: 203 ms\n",
            "Wall time: 203 ms\n",
            "CPU times: user 635 µs, sys: 0 ns, total: 635 µs\n",
            "Wall time: 385 µs\n"
          ]
        }
      ]
    },
    {
      "cell_type": "markdown",
      "source": [
        "## **Question 3** Median"
      ],
      "metadata": {
        "id": "8EUl3v8Pmdsg"
      }
    },
    {
      "cell_type": "markdown",
      "source": [
        "### **Method 1**:\n",
        "Checking for an element would be an $O(N)$ operation for each pass, since we need to find the median that means the $\\frac{N}{2}^{th}$ largest element, resulting in an overall complexity of $O(N^2)$.\n"
      ],
      "metadata": {
        "id": "YJC7XfpUnBuh"
      }
    },
    {
      "cell_type": "code",
      "source": [
        "def find_median(arr):\n",
        "  n = len(arr)\n",
        "  for i in range(n - 1, n//2 - 2, -1):\n",
        "    maxidx = i\n",
        "    for j in range(i):\n",
        "      if arr[j] > arr[maxidx]:\n",
        "        maxidx = j\n",
        "    arr[maxidx], arr[i] = arr[i], arr[maxidx]\n",
        "  if N % 2 == 1:\n",
        "    print(arr[maxidx])\n",
        "  else:\n",
        "    print((arr[n//2] + arr[n//2 - 1])/2)\n"
      ],
      "metadata": {
        "id": "rtKVXoJ4m5Vi"
      },
      "execution_count": 22,
      "outputs": []
    },
    {
      "cell_type": "markdown",
      "source": [
        "### **Method 2**\n",
        "We can simply sort the array and return the median (middle element) resulting in an $O(NlogN)$ complexity."
      ],
      "metadata": {
        "id": "a_vQpC9W_s9D"
      }
    },
    {
      "cell_type": "code",
      "source": [
        "def findmedian(arr):\n",
        "  n = len(arr)\n",
        "  sortedA = sorted(arr)\n",
        "  if (N % 2 == 1):\n",
        "    print(sortedA[n//2])\n",
        "  else:\n",
        "    print((sortedA[n//2] + sortedA[n//2 - 1])/2)"
      ],
      "metadata": {
        "id": "mjVwYgG5AAZF"
      },
      "execution_count": 18,
      "outputs": []
    },
    {
      "cell_type": "code",
      "source": [
        "# testing\n",
        "N = 30\n",
        "arr = np.random.randint(256, size = N);\n",
        "print(arr)\n",
        "find_median(arr)\n",
        "findmedian(arr)"
      ],
      "metadata": {
        "colab": {
          "base_uri": "https://localhost:8080/"
        },
        "id": "wmZYDDHsAb5g",
        "outputId": "faa65da1-4aff-451f-e4a5-e4d01450118a"
      },
      "execution_count": 23,
      "outputs": [
        {
          "output_type": "stream",
          "name": "stdout",
          "text": [
            "[152 195 110 214 191 118 120 250 107  71  72 136 118  50  53  76 166 132\n",
            "  62 100  19 112  35 130  76  81  68 158 151  80]\n",
            "111.0\n",
            "111.0\n"
          ]
        }
      ]
    },
    {
      "cell_type": "markdown",
      "source": [
        "### Time Comparison"
      ],
      "metadata": {
        "id": "hQtPELBJBI7O"
      }
    },
    {
      "cell_type": "code",
      "source": [
        "N = 9999\n",
        "arr = np.random.randint(10000, size = N)\n",
        "%time find_median(arr.copy())\n",
        "%time findmedian(arr.copy())\n",
        "%time np.median(arr.copy())"
      ],
      "metadata": {
        "colab": {
          "base_uri": "https://localhost:8080/"
        },
        "id": "1sy8XNlWBNsN",
        "outputId": "01c1f787-4062-40ac-ccd2-41403ba91427"
      },
      "execution_count": 25,
      "outputs": [
        {
          "output_type": "stream",
          "name": "stdout",
          "text": [
            "1734\n",
            "CPU times: user 5.2 s, sys: 0 ns, total: 5.2 s\n",
            "Wall time: 5.21 s\n",
            "5011\n",
            "CPU times: user 6.22 ms, sys: 0 ns, total: 6.22 ms\n",
            "Wall time: 6.25 ms\n",
            "CPU times: user 201 µs, sys: 0 ns, total: 201 µs\n",
            "Wall time: 205 µs\n"
          ]
        },
        {
          "output_type": "execute_result",
          "data": {
            "text/plain": [
              "np.float64(5011.0)"
            ]
          },
          "metadata": {},
          "execution_count": 25
        }
      ]
    },
    {
      "cell_type": "markdown",
      "source": [
        "As seen above, the ```numpy.median``` method is faster than the methods implemented above, this is simply due to the fact that numpy operations are implemented in C and are much more optimised."
      ],
      "metadata": {
        "id": "D2mKSHyDwCkq"
      }
    },
    {
      "cell_type": "markdown",
      "source": [
        " ## **Question 4** Gradient with respect to $x$ and $y$ <br>\n",
        "The function $F(x, y)$ is defined as $x^{2}y + y^{3}sinx$ <br>\n",
        "The gradient of the $F(x,y)$ defined as $∇F$ is given as:<br>\n",
        "$∇F = \\begin{bmatrix}\\frac{\\partial F}{\\partial x} \\\\ \\frac{\\partial F}{\\partial y} \\end{bmatrix} = \\begin{bmatrix} 2xy + y^3 \\cos(x) \\\\ x^2 + 3y^2 \\sin(x)  \\end{bmatrix}$"
      ],
      "metadata": {
        "id": "Zq-pPu66BorB"
      }
    },
    {
      "cell_type": "markdown",
      "source": [
        "## **Question 5** Using ```JAX``` to find the Gradient"
      ],
      "metadata": {
        "id": "h0gXv-g9CZmB"
      }
    },
    {
      "cell_type": "code",
      "source": [
        "import jax\n",
        "import jax.numpy as jnp"
      ],
      "metadata": {
        "id": "duRtSNUJCnXA"
      },
      "execution_count": 5,
      "outputs": []
    },
    {
      "cell_type": "code",
      "source": [
        "def F(x, y):\n",
        "  return x**2 * y + y**3 * jnp.sin(x)\n",
        "\n",
        "def grad_F(x, y):\n",
        "  return jnp.array(jax.grad(F, argnums = (0, 1))(x, y))\n",
        "\n",
        "def manual_grad_F(x, y):\n",
        "  return jnp.array([2*x*y + y**3*jnp.cos(x), x**2 + 3*y**2*jnp.sin(x)])\n",
        "\n",
        "points = np.array([(0, 0), (1, 1), (0.5, 0.5), (2, -2), (0.25, -1)])\n",
        "\n",
        "for x, y in points:\n",
        "  jaxgrad = grad_F(x, y)\n",
        "  manualgrad = manual_grad_F(x, y)\n",
        "  print(\"Jaxgrad: \", jaxgrad)\n",
        "  print(\"Manualgrad: \", manualgrad)"
      ],
      "metadata": {
        "colab": {
          "base_uri": "https://localhost:8080/"
        },
        "id": "TucYpfopCuyh",
        "outputId": "1ad88b60-0a64-4105-e9a2-d38a138b5e6a"
      },
      "execution_count": 9,
      "outputs": [
        {
          "output_type": "stream",
          "name": "stdout",
          "text": [
            "Jaxgrad:  [0. 0.]\n",
            "Manualgrad:  [0. 0.]\n",
            "Jaxgrad:  [2.5403023 3.5244129]\n",
            "Manualgrad:  [2.5403023 3.5244129]\n",
            "Jaxgrad:  [0.6096978 0.6095692]\n",
            "Manualgrad:  [0.6096978 0.6095692]\n",
            "Jaxgrad:  [-4.670825 14.911569]\n",
            "Manualgrad:  [-4.670825 14.911569]\n",
            "Jaxgrad:  [-1.4689124  0.8047119]\n",
            "Manualgrad:  [-1.4689124  0.8047119]\n"
          ]
        }
      ]
    },
    {
      "cell_type": "markdown",
      "source": [
        "As seen the results are almost the same using ```Jax``` or through the manual method."
      ],
      "metadata": {
        "id": "iVebqYQqz0LD"
      }
    },
    {
      "cell_type": "markdown",
      "source": [
        "## **Question 6** Using ```sympy``` to find the gradient of the function\n",
        "\n"
      ],
      "metadata": {
        "id": "UwuJOTrBDn6N"
      }
    },
    {
      "cell_type": "code",
      "source": [
        "import sympy as sp"
      ],
      "metadata": {
        "id": "7bd8ElnhDnnw"
      },
      "execution_count": 1,
      "outputs": []
    },
    {
      "cell_type": "code",
      "source": [
        "x, y = sp.symbols(\"x y\")\n",
        "F = x**2 * y + y**3 * sp.sin(x)\n",
        "gradx, grady = sp.diff(F, x), sp.diff(F, y)\n",
        "print(\"Gradient wrt x:\")\n",
        "display(gradx)\n",
        "print(\"Gradient wrt y:\")\n",
        "display(grady)\n"
      ],
      "metadata": {
        "colab": {
          "base_uri": "https://localhost:8080/",
          "height": 95
        },
        "id": "p_O-qjLbEAtt",
        "outputId": "81ef4f4c-8a3d-439a-a5d4-ffbac83ffdd9"
      },
      "execution_count": 4,
      "outputs": [
        {
          "output_type": "stream",
          "name": "stdout",
          "text": [
            "Gradient wrt x:\n"
          ]
        },
        {
          "output_type": "display_data",
          "data": {
            "text/plain": [
              "2*x*y + y**3*cos(x)"
            ],
            "text/latex": "$\\displaystyle 2 x y + y^{3} \\cos{\\left(x \\right)}$"
          },
          "metadata": {}
        },
        {
          "output_type": "stream",
          "name": "stdout",
          "text": [
            "Gradient wrt y:\n"
          ]
        },
        {
          "output_type": "display_data",
          "data": {
            "text/plain": [
              "x**2 + 3*y**2*sin(x)"
            ],
            "text/latex": "$\\displaystyle x^{2} + 3 y^{2} \\sin{\\left(x \\right)}$"
          },
          "metadata": {}
        }
      ]
    },
    {
      "cell_type": "markdown",
      "source": [
        "## **Question 7** Nested Dictionary"
      ],
      "metadata": {
        "id": "AfyEYuLnpDal"
      }
    },
    {
      "cell_type": "code",
      "source": [
        "students = {\n",
        "    2022:\n",
        "    {\n",
        "        \"Branch 1\":\n",
        "        {\n",
        "            1:{\n",
        "              \"Roll Number\": 1,\n",
        "              \"Name\": \"N\",\n",
        "              \"Marks\":\n",
        "              {\n",
        "                  \"Maths\": 100,\n",
        "                  \"English\": 70,\n",
        "              }\n",
        "            }\n",
        "        },\n",
        "        \"Branch 2\":\n",
        "        {\n",
        "\n",
        "        }\n",
        "\n",
        "    },\n",
        "    2023:\n",
        "    {\n",
        "        \"Branch 1\":\n",
        "        {\n",
        "\n",
        "        },\n",
        "        \"Branch 2\":\n",
        "        {\n",
        "\n",
        "        }\n",
        "    },\n",
        "    2024:\n",
        "    {\n",
        "        \"Branch 1\":\n",
        "        {\n",
        "\n",
        "        },\n",
        "        \"Branch 2\":\n",
        "        {\n",
        "\n",
        "        }\n",
        "    },\n",
        "    2025:\n",
        "    {\n",
        "        \"Branch 1\":\n",
        "        {\n",
        "\n",
        "        },\n",
        "        \"Branch 2\":\n",
        "        {\n",
        "\n",
        "        }\n",
        "    }\n",
        "}\n",
        "\n",
        "for year in students:\n",
        "    print(f\"Year: {year}\")\n",
        "    for branch in students[year]:\n",
        "        print(\" \"*4, f\"Branch: {branch}\")\n",
        "        for roll in students[year][branch]:\n",
        "            print(\" \"*8,f\"Student: {roll}\")\n",
        "            print(\" \"*12 ,f\"Name: {students[year][branch][roll]['Name']}\")\n",
        "            print(\" \"*12, f\"Roll Number: {students[year][branch][roll]['Roll Number']}\")\n",
        "            print(\" \"*12,\"Marks:\")\n",
        "            for indimarks in students[year][branch][roll]['Marks']:\n",
        "                print(\" \"*16, f\"{indimarks}: {students[year][branch][roll]['Marks'][indimarks]}\")\n",
        "    print()"
      ],
      "metadata": {
        "colab": {
          "base_uri": "https://localhost:8080/"
        },
        "id": "i6oj-T0qpPDH",
        "outputId": "23b8bea3-c094-46ee-a1ef-e3b62dedd3a2"
      },
      "execution_count": 13,
      "outputs": [
        {
          "output_type": "stream",
          "name": "stdout",
          "text": [
            "Year: 2022\n",
            "     Branch: Branch 1\n",
            "         Student: 1\n",
            "             Name: N\n",
            "             Roll Number: 1\n",
            "             Marks:\n",
            "                 Maths: 100\n",
            "                 English: 70\n",
            "     Branch: Branch 2\n",
            "\n",
            "Year: 2023\n",
            "     Branch: Branch 1\n",
            "     Branch: Branch 2\n",
            "\n",
            "Year: 2024\n",
            "     Branch: Branch 1\n",
            "     Branch: Branch 2\n",
            "\n",
            "Year: 2025\n",
            "     Branch: Branch 1\n",
            "     Branch: Branch 2\n",
            "\n"
          ]
        }
      ]
    },
    {
      "cell_type": "markdown",
      "source": [
        "## **Question 8** Python Classes"
      ],
      "metadata": {
        "id": "fpUG4HG4sTf9"
      }
    },
    {
      "cell_type": "code",
      "source": [
        "class Student_Data:\n",
        "    def __init__(self, name, roll_number):\n",
        "        self.name = name\n",
        "        self.roll_number = roll_number\n",
        "        self.marks = {}\n",
        "\n",
        "    def uploadmarks(self, subject, marks):\n",
        "        self.marks[subject] = marks\n",
        "\n",
        "\n",
        "class Branch:\n",
        "    def __init__(self, brnumber):\n",
        "        self.number = brnumber\n",
        "        self.students = []\n",
        "\n",
        "    def addstudents(self, student):\n",
        "        self.students.append(student)\n",
        "\n",
        "\n",
        "class Year:\n",
        "    def __init__(self, year):\n",
        "        self.year = year\n",
        "        self.branches = []\n",
        "\n",
        "    def addbranch(self, branch):\n",
        "        self.branches.append(branch)\n",
        "\n",
        "    def print(self):\n",
        "        print(f\"Year: {self.year}\")\n",
        "        for branch in self.branches:\n",
        "            print(\" \" * 4, f\"Branch: Branch {branch.number}\")\n",
        "            for student in branch.students:\n",
        "                print(\" \" * 8, f\"Student: {student.roll_number}\")\n",
        "                print(\" \" * 12, f\"Name: {student.name}\")\n",
        "                print(\" \" * 12, f\"Roll Number: {student.roll_number}\")\n",
        "                print(\" \" * 12, \"Marks:\")\n",
        "                for subject, marks in student.marks.items():\n",
        "                    print(\" \" * 16, f\"{subject}: {marks}\")\n",
        "            print()"
      ],
      "metadata": {
        "id": "ZiXkICVcsfDh"
      },
      "execution_count": 15,
      "outputs": []
    },
    {
      "cell_type": "code",
      "source": [
        "y2022 = Year(2022)\n",
        "b12022 = Branch(2022)\n",
        "stud2022 = Student_Data(\"N\", 1)\n",
        "stud2022.uploadmarks(\"Maths\", 100)\n",
        "stud2022.uploadmarks(\"English\", 70)\n",
        "b12022.addstudents(stud2022)\n",
        "\n",
        "y2022.addbranch(b12022)\n",
        "b22022 =  Branch(2)\n",
        "y2022.addbranch(b22022)\n",
        "\n",
        "y2023 = Year(2023)\n",
        "b12022 = Branch(1)\n",
        "b22022 = Branch(2)\n",
        "\n",
        "y2023.addbranch(b12022)\n",
        "y2023.addbranch(b22022)\n",
        "\n",
        "y2024 = Year(2024)\n",
        "b12022 = Branch(1)\n",
        "b22022 = Branch(2)\n",
        "y2024.addbranch(b12022)\n",
        "y2024.addbranch(b22022)\n",
        "\n",
        "y2025 = Year(2025)\n",
        "b52025 = Branch(5)\n",
        "b52025 = Branch(1)\n",
        "b52022 = Branch(2)\n",
        "y2025.addbranch(b52022)\n",
        "y2025.addbranch(b52022)\n",
        "\n",
        "y2022.print()\n",
        "y2023.print()\n",
        "y2024.print()\n",
        "y2025.print()"
      ],
      "metadata": {
        "colab": {
          "base_uri": "https://localhost:8080/"
        },
        "id": "v57UJTRZuE9p",
        "outputId": "8f4a3a2b-261d-4239-f6b4-31f14f25a6a8"
      },
      "execution_count": 17,
      "outputs": [
        {
          "output_type": "stream",
          "name": "stdout",
          "text": [
            "Year: 2022\n",
            "     Branch: Branch 2022\n",
            "         Student: 1\n",
            "             Name: N\n",
            "             Roll Number: 1\n",
            "             Marks:\n",
            "                 Maths: 100\n",
            "                 English: 70\n",
            "\n",
            "     Branch: Branch 2\n",
            "\n",
            "Year: 2023\n",
            "     Branch: Branch 1\n",
            "\n",
            "     Branch: Branch 2\n",
            "\n",
            "Year: 2024\n",
            "     Branch: Branch 1\n",
            "\n",
            "     Branch: Branch 2\n",
            "\n",
            "Year: 2025\n",
            "     Branch: Branch 2\n",
            "\n",
            "     Branch: Branch 2\n",
            "\n"
          ]
        }
      ]
    },
    {
      "cell_type": "markdown",
      "source": [
        "## **Question 9** Plotting various functions in ```matplotplib```\n",
        "\n",
        "1. $y = x$\n",
        "2. $y = x^2$\n",
        "3. $y = \\frac{x^3}{100}$\n",
        "4. $y = \\sin(x)$\n",
        "5. $y = \\frac{\\sin(x)}{x}$\n",
        "6. $y = \\log(x)$\n",
        "7. $y = e^x$"
      ],
      "metadata": {
        "id": "VRdzStkZwn3m"
      }
    },
    {
      "cell_type": "code",
      "source": [
        "x = np.arange(0.5, 100, 0.5)\n",
        "y = x\n",
        "plt.plot(x, y)\n",
        "plt.title (\"$y = x$\")\n",
        "plt.xlabel(\"x\")\n",
        "plt.ylabel(\"y\")\n",
        "plt.grid()\n",
        "plt.show()"
      ],
      "metadata": {
        "colab": {
          "base_uri": "https://localhost:8080/",
          "height": 470
        },
        "id": "B_A38LIKw5GM",
        "outputId": "37e040e9-4459-42bf-e0b8-60b14b63effd"
      },
      "execution_count": 12,
      "outputs": [
        {
          "output_type": "display_data",
          "data": {
            "text/plain": [
              "<Figure size 640x480 with 1 Axes>"
            ],
            "image/png": "[encoded data removed]"
          },
          "metadata": {}
        }
      ]
    },
    {
      "cell_type": "code",
      "source": [
        "y = x**2\n",
        "plt.plot(x, y)\n",
        "plt.title (\"$y = x^{2}$\")\n",
        "plt.xlabel(\"x\")\n",
        "plt.ylabel(\"y\")\n",
        "plt.grid()\n",
        "plt.show()"
      ],
      "metadata": {
        "colab": {
          "base_uri": "https://localhost:8080/",
          "height": 476
        },
        "id": "Ca_84Ag2z7Zu",
        "outputId": "833fec24-d951-4fc8-9854-de3d362b79c1"
      },
      "execution_count": 11,
      "outputs": [
        {
          "output_type": "display_data",
          "data": {
            "text/plain": [
              "<Figure size 640x480 with 1 Axes>"
            ],
            "image/png": "[encoded data removed]"
          },
          "metadata": {}
        }
      ]
    },
    {
      "cell_type": "code",
      "source": [
        "y = (x**3)/100\n",
        "plt.plot(x, y)\n",
        "plt.title (\"$y = x^{3}/100$\")\n",
        "plt.xlabel(\"x\")\n",
        "plt.ylabel(\"y\")\n",
        "plt.grid()\n",
        "plt.show()"
      ],
      "metadata": {
        "colab": {
          "base_uri": "https://localhost:8080/",
          "height": 476
        },
        "id": "xEZCJ4ja0XxX",
        "outputId": "53a13861-888a-4323-dbd6-c352606ccc20"
      },
      "execution_count": 13,
      "outputs": [
        {
          "output_type": "display_data",
          "data": {
            "text/plain": [
              "<Figure size 640x480 with 1 Axes>"
            ],
            "image/png": "[encoded data removed]"
          },
          "metadata": {}
        }
      ]
    },
    {
      "cell_type": "code",
      "source": [
        "y = np.sin(x)\n",
        "plt.plot(x, y)\n",
        "plt.title (\"$y = sinx$\")\n",
        "plt.xlabel(\"x\")\n",
        "plt.ylabel(\"y\")\n",
        "plt.grid()\n",
        "plt.show()"
      ],
      "metadata": {
        "colab": {
          "base_uri": "https://localhost:8080/",
          "height": 474
        },
        "id": "9upfZ4240ibY",
        "outputId": "631550fa-109e-4139-9806-e5430353ec09"
      },
      "execution_count": 15,
      "outputs": [
        {
          "output_type": "display_data",
          "data": {
            "text/plain": [
              "<Figure size 640x480 with 1 Axes>"
            ],
            "image/png": "[encoded data removed]"
          },
          "metadata": {}
        }
      ]
    },
    {
      "cell_type": "code",
      "source": [
        "y = np.sin(x)/x\n",
        "plt.plot(x, y)\n",
        "plt.title (\"$y = sinx/x$\")\n",
        "plt.xlabel(\"x\")\n",
        "plt.ylabel(\"y\")\n",
        "plt.grid()\n",
        "plt.show()"
      ],
      "metadata": {
        "colab": {
          "base_uri": "https://localhost:8080/",
          "height": 474
        },
        "id": "-z6sdkjH0tg-",
        "outputId": "654ba182-1fd9-4967-f415-3dcd80fa4c51"
      },
      "execution_count": 16,
      "outputs": [
        {
          "output_type": "display_data",
          "data": {
            "text/plain": [
              "<Figure size 640x480 with 1 Axes>"
            ],
            "image/png": "[encoded data removed]"
          },
          "metadata": {}
        }
      ]
    },
    {
      "cell_type": "code",
      "source": [
        "y = np.log(x)\n",
        "plt.plot(x, y)\n",
        "plt.title (\"$y = logx$\")\n",
        "plt.xlabel(\"x\")\n",
        "plt.ylabel(\"y\")\n",
        "plt.grid()\n",
        "plt.show()"
      ],
      "metadata": {
        "colab": {
          "base_uri": "https://localhost:8080/",
          "height": 474
        },
        "id": "pouNbPvF0zRg",
        "outputId": "d58bcc04-5808-4fa7-95ba-9170d90ab943"
      },
      "execution_count": 18,
      "outputs": [
        {
          "output_type": "display_data",
          "data": {
            "text/plain": [
              "<Figure size 640x480 with 1 Axes>"
            ],
            "image/png": "[encoded data removed]"
          },
          "metadata": {}
        }
      ]
    },
    {
      "cell_type": "code",
      "source": [
        "y = np.exp(x)\n",
        "plt.plot(x, y)\n",
        "plt.title (\"$y = e^{x}$\")\n",
        "plt.xlabel(\"x\")\n",
        "plt.ylabel(\"y\")\n",
        "plt.grid()\n",
        "plt.show()"
      ],
      "metadata": {
        "colab": {
          "base_uri": "https://localhost:8080/",
          "height": 474
        },
        "id": "FoaIr9za05eX",
        "outputId": "491807ce-0384-433a-ec49-f2255673bd97"
      },
      "execution_count": 19,
      "outputs": [
        {
          "output_type": "display_data",
          "data": {
            "text/plain": [
              "<Figure size 640x480 with 1 Axes>"
            ],
            "image/png": "[encoded data removed]"
          },
          "metadata": {}
        }
      ]
    },
    {
      "cell_type": "markdown",
      "source": [
        "## **Question 10** Matrices in Pandas"
      ],
      "metadata": {
        "id": "QLiIb1bk2CXM"
      }
    },
    {
      "cell_type": "code",
      "source": [
        "M = np.random.uniform(1, 2, (20, 5))\n",
        "M"
      ],
      "metadata": {
        "colab": {
          "base_uri": "https://localhost:8080/"
        },
        "id": "RvTdPYFB2Tly",
        "outputId": "f2116f00-683f-4f77-9835-f298e7f5560c"
      },
      "execution_count": 20,
      "outputs": [
        {
          "output_type": "execute_result",
          "data": {
            "text/plain": [
              "array([[1.61956771, 1.16205427, 1.29187622, 1.38504025, 1.27578187],\n",
              "       [1.26678813, 1.59057338, 1.51363438, 1.86631655, 1.7389998 ],\n",
              "       [1.51297033, 1.20752711, 1.90738007, 1.54246098, 1.6574213 ],\n",
              "       [1.88809481, 1.34872463, 1.88548352, 1.77711558, 1.30069844],\n",
              "       [1.88915721, 1.95060101, 1.8761085 , 1.30464151, 1.16695631],\n",
              "       [1.30000133, 1.91481337, 1.54689566, 1.88050241, 1.80003946],\n",
              "       [1.00560173, 1.64357781, 1.16560198, 1.39176885, 1.98626507],\n",
              "       [1.10666795, 1.62080794, 1.67204936, 1.07477782, 1.96352587],\n",
              "       [1.87046008, 1.36036341, 1.05224421, 1.57035856, 1.08748121],\n",
              "       [1.79459119, 1.37914968, 1.08246173, 1.07101902, 1.67262324],\n",
              "       [1.36993527, 1.44366409, 1.0347772 , 1.85440735, 1.48699135],\n",
              "       [1.53860089, 1.73029301, 1.65494641, 1.08060743, 1.45584092],\n",
              "       [1.99849888, 1.93929754, 1.14771323, 1.38096519, 1.33711636],\n",
              "       [1.21944036, 1.70550312, 1.43311218, 1.22152348, 1.65981627],\n",
              "       [1.58418159, 1.50254571, 1.58580454, 1.08402636, 1.52861848],\n",
              "       [1.99808125, 1.59966016, 1.87042087, 1.03687232, 1.96251335],\n",
              "       [1.38207328, 1.66785871, 1.77299132, 1.52036242, 1.8896618 ],\n",
              "       [1.11088973, 1.21592048, 1.36498017, 1.44092654, 1.57212537],\n",
              "       [1.84198311, 1.75048302, 1.38767075, 1.41052437, 1.98128199],\n",
              "       [1.04266399, 1.29568591, 1.77738319, 1.68798343, 1.03021503]])"
            ]
          },
          "metadata": {},
          "execution_count": 20
        }
      ]
    },
    {
      "cell_type": "code",
      "source": [
        "df = pd.DataFrame(M, columns = [\"A\", \"B\", \"C\", \"D\", \"E\"])\n",
        "df"
      ],
      "metadata": {
        "colab": {
          "base_uri": "https://localhost:8080/",
          "height": 676
        },
        "id": "SPSQf8JZ2ead",
        "outputId": "a4bd2119-8a36-4eb0-e196-d780e50b8c4e"
      },
      "execution_count": 21,
      "outputs": [
        {
          "output_type": "execute_result",
          "data": {
            "text/plain": [
              "           A         B         C         D         E\n",
              "0   1.619568  1.162054  1.291876  1.385040  1.275782\n",
              "1   1.266788  1.590573  1.513634  1.866317  1.739000\n",
              "2   1.512970  1.207527  1.907380  1.542461  1.657421\n",
              "3   1.888095  1.348725  1.885484  1.777116  1.300698\n",
              "4   1.889157  1.950601  1.876108  1.304642  1.166956\n",
              "5   1.300001  1.914813  1.546896  1.880502  1.800039\n",
              "6   1.005602  1.643578  1.165602  1.391769  1.986265\n",
              "7   1.106668  1.620808  1.672049  1.074778  1.963526\n",
              "8   1.870460  1.360363  1.052244  1.570359  1.087481\n",
              "9   1.794591  1.379150  1.082462  1.071019  1.672623\n",
              "10  1.369935  1.443664  1.034777  1.854407  1.486991\n",
              "11  1.538601  1.730293  1.654946  1.080607  1.455841\n",
              "12  1.998499  1.939298  1.147713  1.380965  1.337116\n",
              "13  1.219440  1.705503  1.433112  1.221523  1.659816\n",
              "14  1.584182  1.502546  1.585805  1.084026  1.528618\n",
              "15  1.998081  1.599660  1.870421  1.036872  1.962513\n",
              "16  1.382073  1.667859  1.772991  1.520362  1.889662\n",
              "17  1.110890  1.215920  1.364980  1.440927  1.572125\n",
              "18  1.841983  1.750483  1.387671  1.410524  1.981282\n",
              "19  1.042664  1.295686  1.777383  1.687983  1.030215"
            ],
            "text/html": [
              "\n",
              "  <div id=\"df-f8523781-568d-44f9-8896-d0a7a1b5a990\" class=\"colab-df-container\">\n",
              "    <div>\n",
              "<style scoped>\n",
              "    .dataframe tbody tr th:only-of-type {\n",
              "        vertical-align: middle;\n",
              "    }\n",
              "\n",
              "    .dataframe tbody tr th {\n",
              "        vertical-align: top;\n",
              "    }\n",
              "\n",
              "    .dataframe thead th {\n",
              "        text-align: right;\n",
              "    }\n",
              "</style>\n",
              "<table border=\"1\" class=\"dataframe\">\n",
              "  <thead>\n",
              "    <tr style=\"text-align: right;\">\n",
              "      <th></th>\n",
              "      <th>A</th>\n",
              "      <th>B</th>\n",
              "      <th>C</th>\n",
              "      <th>D</th>\n",
              "      <th>E</th>\n",
              "    </tr>\n",
              "  </thead>\n",
              "  <tbody>\n",
              "    <tr>\n",
              "      <th>0</th>\n",
              "      <td>1.619568</td>\n",
              "      <td>1.162054</td>\n",
              "      <td>1.291876</td>\n",
              "      <td>1.385040</td>\n",
              "      <td>1.275782</td>\n",
              "    </tr>\n",
              "    <tr>\n",
              "      <th>1</th>\n",
              "      <td>1.266788</td>\n",
              "      <td>1.590573</td>\n",
              "      <td>1.513634</td>\n",
              "      <td>1.866317</td>\n",
              "      <td>1.739000</td>\n",
              "    </tr>\n",
              "    <tr>\n",
              "      <th>2</th>\n",
              "      <td>1.512970</td>\n",
              "      <td>1.207527</td>\n",
              "      <td>1.907380</td>\n",
              "      <td>1.542461</td>\n",
              "      <td>1.657421</td>\n",
              "    </tr>\n",
              "    <tr>\n",
              "      <th>3</th>\n",
              "      <td>1.888095</td>\n",
              "      <td>1.348725</td>\n",
              "      <td>1.885484</td>\n",
              "      <td>1.777116</td>\n",
              "      <td>1.300698</td>\n",
              "    </tr>\n",
              "    <tr>\n",
              "      <th>4</th>\n",
              "      <td>1.889157</td>\n",
              "      <td>1.950601</td>\n",
              "      <td>1.876108</td>\n",
              "      <td>1.304642</td>\n",
              "      <td>1.166956</td>\n",
              "    </tr>\n",
              "    <tr>\n",
              "      <th>5</th>\n",
              "      <td>1.300001</td>\n",
              "      <td>1.914813</td>\n",
              "      <td>1.546896</td>\n",
              "      <td>1.880502</td>\n",
              "      <td>1.800039</td>\n",
              "    </tr>\n",
              "    <tr>\n",
              "      <th>6</th>\n",
              "      <td>1.005602</td>\n",
              "      <td>1.643578</td>\n",
              "      <td>1.165602</td>\n",
              "      <td>1.391769</td>\n",
              "      <td>1.986265</td>\n",
              "    </tr>\n",
              "    <tr>\n",
              "      <th>7</th>\n",
              "      <td>1.106668</td>\n",
              "      <td>1.620808</td>\n",
              "      <td>1.672049</td>\n",
              "      <td>1.074778</td>\n",
              "      <td>1.963526</td>\n",
              "    </tr>\n",
              "    <tr>\n",
              "      <th>8</th>\n",
              "      <td>1.870460</td>\n",
              "      <td>1.360363</td>\n",
              "      <td>1.052244</td>\n",
              "      <td>1.570359</td>\n",
              "      <td>1.087481</td>\n",
              "    </tr>\n",
              "    <tr>\n",
              "      <th>9</th>\n",
              "      <td>1.794591</td>\n",
              "      <td>1.379150</td>\n",
              "      <td>1.082462</td>\n",
              "      <td>1.071019</td>\n",
              "      <td>1.672623</td>\n",
              "    </tr>\n",
              "    <tr>\n",
              "      <th>10</th>\n",
              "      <td>1.369935</td>\n",
              "      <td>1.443664</td>\n",
              "      <td>1.034777</td>\n",
              "      <td>1.854407</td>\n",
              "      <td>1.486991</td>\n",
              "    </tr>\n",
              "    <tr>\n",
              "      <th>11</th>\n",
              "      <td>1.538601</td>\n",
              "      <td>1.730293</td>\n",
              "      <td>1.654946</td>\n",
              "      <td>1.080607</td>\n",
              "      <td>1.455841</td>\n",
              "    </tr>\n",
              "    <tr>\n",
              "      <th>12</th>\n",
              "      <td>1.998499</td>\n",
              "      <td>1.939298</td>\n",
              "      <td>1.147713</td>\n",
              "      <td>1.380965</td>\n",
              "      <td>1.337116</td>\n",
              "    </tr>\n",
              "    <tr>\n",
              "      <th>13</th>\n",
              "      <td>1.219440</td>\n",
              "      <td>1.705503</td>\n",
              "      <td>1.433112</td>\n",
              "      <td>1.221523</td>\n",
              "      <td>1.659816</td>\n",
              "    </tr>\n",
              "    <tr>\n",
              "      <th>14</th>\n",
              "      <td>1.584182</td>\n",
              "      <td>1.502546</td>\n",
              "      <td>1.585805</td>\n",
              "      <td>1.084026</td>\n",
              "      <td>1.528618</td>\n",
              "    </tr>\n",
              "    <tr>\n",
              "      <th>15</th>\n",
              "      <td>1.998081</td>\n",
              "      <td>1.599660</td>\n",
              "      <td>1.870421</td>\n",
              "      <td>1.036872</td>\n",
              "      <td>1.962513</td>\n",
              "    </tr>\n",
              "    <tr>\n",
              "      <th>16</th>\n",
              "      <td>1.382073</td>\n",
              "      <td>1.667859</td>\n",
              "      <td>1.772991</td>\n",
              "      <td>1.520362</td>\n",
              "      <td>1.889662</td>\n",
              "    </tr>\n",
              "    <tr>\n",
              "      <th>17</th>\n",
              "      <td>1.110890</td>\n",
              "      <td>1.215920</td>\n",
              "      <td>1.364980</td>\n",
              "      <td>1.440927</td>\n",
              "      <td>1.572125</td>\n",
              "    </tr>\n",
              "    <tr>\n",
              "      <th>18</th>\n",
              "      <td>1.841983</td>\n",
              "      <td>1.750483</td>\n",
              "      <td>1.387671</td>\n",
              "      <td>1.410524</td>\n",
              "      <td>1.981282</td>\n",
              "    </tr>\n",
              "    <tr>\n",
              "      <th>19</th>\n",
              "      <td>1.042664</td>\n",
              "      <td>1.295686</td>\n",
              "      <td>1.777383</td>\n",
              "      <td>1.687983</td>\n",
              "      <td>1.030215</td>\n",
              "    </tr>\n",
              "  </tbody>\n",
              "</table>\n",
              "</div>\n",
              "    <div class=\"colab-df-buttons\">\n",
              "\n",
              "  <div class=\"colab-df-container\">\n",
              "    <button class=\"colab-df-convert\" onclick=\"convertToInteractive('df-f8523781-568d-44f9-8896-d0a7a1b5a990')\"\n",
              "            title=\"Convert this dataframe to an interactive table.\"\n",
              "            style=\"display:none;\">\n",
              "\n",
              "  <svg xmlns=\"http://www.w3.org/2000/svg\" height=\"24px\" viewBox=\"0 -960 960 960\">\n",
              "    <path d=\"M120-120v-720h720v720H120Zm60-500h600v-160H180v160Zm220 220h160v-160H400v160Zm0 220h160v-160H400v160ZM180-400h160v-160H180v160Zm440 0h160v-160H620v160ZM180-180h160v-160H180v160Zm440 0h160v-160H620v160Z\"/>\n",
              "  </svg>\n",
              "    </button>\n",
              "\n",
              "  <style>\n",
              "    .colab-df-container {\n",
              "      display:flex;\n",
              "      gap: 12px;\n",
              "    }\n",
              "\n",
              "    .colab-df-convert {\n",
              "      background-color: #E8F0FE;\n",
              "      border: none;\n",
              "      border-radius: 50%;\n",
              "      cursor: pointer;\n",
              "      display: none;\n",
              "      fill: #1967D2;\n",
              "      height: 32px;\n",
              "      padding: 0 0 0 0;\n",
              "      width: 32px;\n",
              "    }\n",
              "\n",
              "    .colab-df-convert:hover {\n",
              "      background-color: #E2EBFA;\n",
              "      box-shadow: 0px 1px 2px rgba(60, 64, 67, 0.3), 0px 1px 3px 1px rgba(60, 64, 67, 0.15);\n",
              "      fill: #174EA6;\n",
              "    }\n",
              "\n",
              "    .colab-df-buttons div {\n",
              "      margin-bottom: 4px;\n",
              "    }\n",
              "\n",
              "    [theme=dark] .colab-df-convert {\n",
              "      background-color: #3B4455;\n",
              "      fill: #D2E3FC;\n",
              "    }\n",
              "\n",
              "    [theme=dark] .colab-df-convert:hover {\n",
              "      background-color: #434B5C;\n",
              "      box-shadow: 0px 1px 3px 1px rgba(0, 0, 0, 0.15);\n",
              "      filter: drop-shadow(0px 1px 2px rgba(0, 0, 0, 0.3));\n",
              "      fill: #FFFFFF;\n",
              "    }\n",
              "  </style>\n",
              "\n",
              "    <script>\n",
              "      const buttonEl =\n",
              "        document.querySelector('#df-f8523781-568d-44f9-8896-d0a7a1b5a990 button.colab-df-convert');\n",
              "      buttonEl.style.display =\n",
              "        google.colab.kernel.accessAllowed ? 'block' : 'none';\n",
              "\n",
              "      async function convertToInteractive(key) {\n",
              "        const element = document.querySelector('#df-f8523781-568d-44f9-8896-d0a7a1b5a990');\n",
              "        const dataTable =\n",
              "          await google.colab.kernel.invokeFunction('convertToInteractive',\n",
              "                                                    [key], {});\n",
              "        if (!dataTable) return;\n",
              "\n",
              "        const docLinkHtml = 'Like what you see? Visit the ' +\n",
              "          '<a target=\"_blank\" href=https://colab.research.google.com/notebooks/data_table.ipynb>data table notebook</a>'\n",
              "          + ' to learn more about interactive tables.';\n",
              "        element.innerHTML = '';\n",
              "        dataTable['output_type'] = 'display_data';\n",
              "        await google.colab.output.renderOutput(dataTable, element);\n",
              "        const docLink = document.createElement('div');\n",
              "        docLink.innerHTML = docLinkHtml;\n",
              "        element.appendChild(docLink);\n",
              "      }\n",
              "    </script>\n",
              "  </div>\n",
              "\n",
              "\n",
              "    <div id=\"df-af0187ab-faa6-4e70-b754-754f0cd2276f\">\n",
              "      <button class=\"colab-df-quickchart\" onclick=\"quickchart('df-af0187ab-faa6-4e70-b754-754f0cd2276f')\"\n",
              "                title=\"Suggest charts\"\n",
              "                style=\"display:none;\">\n",
              "\n",
              "<svg xmlns=\"http://www.w3.org/2000/svg\" height=\"24px\"viewBox=\"0 0 24 24\"\n",
              "     width=\"24px\">\n",
              "    <g>\n",
              "        <path d=\"M19 3H5c-1.1 0-2 .9-2 2v14c0 1.1.9 2 2 2h14c1.1 0 2-.9 2-2V5c0-1.1-.9-2-2-2zM9 17H7v-7h2v7zm4 0h-2V7h2v10zm4 0h-2v-4h2v4z\"/>\n",
              "    </g>\n",
              "</svg>\n",
              "      </button>\n",
              "\n",
              "<style>\n",
              "  .colab-df-quickchart {\n",
              "      --bg-color: #E8F0FE;\n",
              "      --fill-color: #1967D2;\n",
              "      --hover-bg-color: #E2EBFA;\n",
              "      --hover-fill-color: #174EA6;\n",
              "      --disabled-fill-color: #AAA;\n",
              "      --disabled-bg-color: #DDD;\n",
              "  }\n",
              "\n",
              "  [theme=dark] .colab-df-quickchart {\n",
              "      --bg-color: #3B4455;\n",
              "      --fill-color: #D2E3FC;\n",
              "      --hover-bg-color: #434B5C;\n",
              "      --hover-fill-color: #FFFFFF;\n",
              "      --disabled-bg-color: #3B4455;\n",
              "      --disabled-fill-color: #666;\n",
              "  }\n",
              "\n",
              "  .colab-df-quickchart {\n",
              "    background-color: var(--bg-color);\n",
              "    border: none;\n",
              "    border-radius: 50%;\n",
              "    cursor: pointer;\n",
              "    display: none;\n",
              "    fill: var(--fill-color);\n",
              "    height: 32px;\n",
              "    padding: 0;\n",
              "    width: 32px;\n",
              "  }\n",
              "\n",
              "  .colab-df-quickchart:hover {\n",
              "    background-color: var(--hover-bg-color);\n",
              "    box-shadow: 0 1px 2px rgba(60, 64, 67, 0.3), 0 1px 3px 1px rgba(60, 64, 67, 0.15);\n",
              "    fill: var(--button-hover-fill-color);\n",
              "  }\n",
              "\n",
              "  .colab-df-quickchart-complete:disabled,\n",
              "  .colab-df-quickchart-complete:disabled:hover {\n",
              "    background-color: var(--disabled-bg-color);\n",
              "    fill: var(--disabled-fill-color);\n",
              "    box-shadow: none;\n",
              "  }\n",
              "\n",
              "  .colab-df-spinner {\n",
              "    border: 2px solid var(--fill-color);\n",
              "    border-color: transparent;\n",
              "    border-bottom-color: var(--fill-color);\n",
              "    animation:\n",
              "      spin 1s steps(1) infinite;\n",
              "  }\n",
              "\n",
              "  @keyframes spin {\n",
              "    0% {\n",
              "      border-color: transparent;\n",
              "      border-bottom-color: var(--fill-color);\n",
              "      border-left-color: var(--fill-color);\n",
              "    }\n",
              "    20% {\n",
              "      border-color: transparent;\n",
              "      border-left-color: var(--fill-color);\n",
              "      border-top-color: var(--fill-color);\n",
              "    }\n",
              "    30% {\n",
              "      border-color: transparent;\n",
              "      border-left-color: var(--fill-color);\n",
              "      border-top-color: var(--fill-color);\n",
              "      border-right-color: var(--fill-color);\n",
              "    }\n",
              "    40% {\n",
              "      border-color: transparent;\n",
              "      border-right-color: var(--fill-color);\n",
              "      border-top-color: var(--fill-color);\n",
              "    }\n",
              "    60% {\n",
              "      border-color: transparent;\n",
              "      border-right-color: var(--fill-color);\n",
              "    }\n",
              "    80% {\n",
              "      border-color: transparent;\n",
              "      border-right-color: var(--fill-color);\n",
              "      border-bottom-color: var(--fill-color);\n",
              "    }\n",
              "    90% {\n",
              "      border-color: transparent;\n",
              "      border-bottom-color: var(--fill-color);\n",
              "    }\n",
              "  }\n",
              "</style>\n",
              "\n",
              "      <script>\n",
              "        async function quickchart(key) {\n",
              "          const quickchartButtonEl =\n",
              "            document.querySelector('#' + key + ' button');\n",
              "          quickchartButtonEl.disabled = true;  // To prevent multiple clicks.\n",
              "          quickchartButtonEl.classList.add('colab-df-spinner');\n",
              "          try {\n",
              "            const charts = await google.colab.kernel.invokeFunction(\n",
              "                'suggestCharts', [key], {});\n",
              "          } catch (error) {\n",
              "            console.error('Error during call to suggestCharts:', error);\n",
              "          }\n",
              "          quickchartButtonEl.classList.remove('colab-df-spinner');\n",
              "          quickchartButtonEl.classList.add('colab-df-quickchart-complete');\n",
              "        }\n",
              "        (() => {\n",
              "          let quickchartButtonEl =\n",
              "            document.querySelector('#df-af0187ab-faa6-4e70-b754-754f0cd2276f button');\n",
              "          quickchartButtonEl.style.display =\n",
              "            google.colab.kernel.accessAllowed ? 'block' : 'none';\n",
              "        })();\n",
              "      </script>\n",
              "    </div>\n",
              "\n",
              "  <div id=\"id_e0b2ac32-5935-4698-b035-32cc08a20e9e\">\n",
              "    <style>\n",
              "      .colab-df-generate {\n",
              "        background-color: #E8F0FE;\n",
              "        border: none;\n",
              "        border-radius: 50%;\n",
              "        cursor: pointer;\n",
              "        display: none;\n",
              "        fill: #1967D2;\n",
              "        height: 32px;\n",
              "        padding: 0 0 0 0;\n",
              "        width: 32px;\n",
              "      }\n",
              "\n",
              "      .colab-df-generate:hover {\n",
              "        background-color: #E2EBFA;\n",
              "        box-shadow: 0px 1px 2px rgba(60, 64, 67, 0.3), 0px 1px 3px 1px rgba(60, 64, 67, 0.15);\n",
              "        fill: #174EA6;\n",
              "      }\n",
              "\n",
              "      [theme=dark] .colab-df-generate {\n",
              "        background-color: #3B4455;\n",
              "        fill: #D2E3FC;\n",
              "      }\n",
              "\n",
              "      [theme=dark] .colab-df-generate:hover {\n",
              "        background-color: #434B5C;\n",
              "        box-shadow: 0px 1px 3px 1px rgba(0, 0, 0, 0.15);\n",
              "        filter: drop-shadow(0px 1px 2px rgba(0, 0, 0, 0.3));\n",
              "        fill: #FFFFFF;\n",
              "      }\n",
              "    </style>\n",
              "    <button class=\"colab-df-generate\" onclick=\"generateWithVariable('df')\"\n",
              "            title=\"Generate code using this dataframe.\"\n",
              "            style=\"display:none;\">\n",
              "\n",
              "  <svg xmlns=\"http://www.w3.org/2000/svg\" height=\"24px\"viewBox=\"0 0 24 24\"\n",
              "       width=\"24px\">\n",
              "    <path d=\"M7,19H8.4L18.45,9,17,7.55,7,17.6ZM5,21V16.75L18.45,3.32a2,2,0,0,1,2.83,0l1.4,1.43a1.91,1.91,0,0,1,.58,1.4,1.91,1.91,0,0,1-.58,1.4L9.25,21ZM18.45,9,17,7.55Zm-12,3A5.31,5.31,0,0,0,4.9,8.1,5.31,5.31,0,0,0,1,6.5,5.31,5.31,0,0,0,4.9,4.9,5.31,5.31,0,0,0,6.5,1,5.31,5.31,0,0,0,8.1,4.9,5.31,5.31,0,0,0,12,6.5,5.46,5.46,0,0,0,6.5,12Z\"/>\n",
              "  </svg>\n",
              "    </button>\n",
              "    <script>\n",
              "      (() => {\n",
              "      const buttonEl =\n",
              "        document.querySelector('#id_e0b2ac32-5935-4698-b035-32cc08a20e9e button.colab-df-generate');\n",
              "      buttonEl.style.display =\n",
              "        google.colab.kernel.accessAllowed ? 'block' : 'none';\n",
              "\n",
              "      buttonEl.onclick = () => {\n",
              "        google.colab.notebook.generateWithVariable('df');\n",
              "      }\n",
              "      })();\n",
              "    </script>\n",
              "  </div>\n",
              "\n",
              "    </div>\n",
              "  </div>\n"
            ],
            "application/vnd.google.colaboratory.intrinsic+json": {
              "type": "dataframe",
              "variable_name": "df",
              "summary": "{\n  \"name\": \"df\",\n  \"rows\": 20,\n  \"fields\": [\n    {\n      \"column\": \"A\",\n      \"properties\": {\n        \"dtype\": \"number\",\n        \"std\": 0.3340740633598114,\n        \"min\": 1.0056017299620172,\n        \"max\": 1.9984988764690823,\n        \"num_unique_values\": 20,\n        \"samples\": [\n          1.619567708568307,\n          1.110889726726669,\n          1.9980812509695816\n        ],\n        \"semantic_type\": \"\",\n        \"description\": \"\"\n      }\n    },\n    {\n      \"column\": \"B\",\n      \"properties\": {\n        \"dtype\": \"number\",\n        \"std\": 0.24462981948408372,\n        \"min\": 1.1620542745010058,\n        \"max\": 1.9506010075795066,\n        \"num_unique_values\": 20,\n        \"samples\": [\n          1.1620542745010058,\n          1.2159204784691786,\n          1.5996601571824667\n        ],\n        \"semantic_type\": \"\",\n        \"description\": \"\"\n      }\n    },\n    {\n      \"column\": \"C\",\n      \"properties\": {\n        \"dtype\": \"number\",\n        \"std\": 0.30033679299212535,\n        \"min\": 1.0347771970283204,\n        \"max\": 1.9073800651587205,\n        \"num_unique_values\": 20,\n        \"samples\": [\n          1.2918762161621742,\n          1.3649801708135465,\n          1.870420866343211\n        ],\n        \"semantic_type\": \"\",\n        \"description\": \"\"\n      }\n    },\n    {\n      \"column\": \"D\",\n      \"properties\": {\n        \"dtype\": \"number\",\n        \"std\": 0.28264950426819724,\n        \"min\": 1.0368723172114915,\n        \"max\": 1.8805024064890636,\n        \"num_unique_values\": 20,\n        \"samples\": [\n          1.385040251774471,\n          1.4409265421301456,\n          1.0368723172114915\n        ],\n        \"semantic_type\": \"\",\n        \"description\": \"\"\n      }\n    },\n    {\n      \"column\": \"E\",\n      \"properties\": {\n        \"dtype\": \"number\",\n        \"std\": 0.30622280026415544,\n        \"min\": 1.030215034199721,\n        \"max\": 1.9862650653597336,\n        \"num_unique_values\": 20,\n        \"samples\": [\n          1.2757818650372452,\n          1.5721253667921433,\n          1.962513348782871\n        ],\n        \"semantic_type\": \"\",\n        \"description\": \"\"\n      }\n    }\n  ]\n}"
            }
          },
          "metadata": {},
          "execution_count": 21
        }
      ]
    },
    {
      "cell_type": "markdown",
      "source": [
        "### Column with highest standard deviation"
      ],
      "metadata": {
        "id": "UyJCOTq_238E"
      }
    },
    {
      "cell_type": "code",
      "source": [
        "maxstd = df.std().idxmax()\n",
        "maxstd"
      ],
      "metadata": {
        "colab": {
          "base_uri": "https://localhost:8080/",
          "height": 35
        },
        "id": "QRlKTjts22x3",
        "outputId": "c248ef36-87c3-4f0a-b1e4-a71bb59b1619"
      },
      "execution_count": 22,
      "outputs": [
        {
          "output_type": "execute_result",
          "data": {
            "text/plain": [
              "'A'"
            ],
            "application/vnd.google.colaboratory.intrinsic+json": {
              "type": "string"
            }
          },
          "metadata": {},
          "execution_count": 22
        }
      ]
    },
    {
      "cell_type": "markdown",
      "source": [
        "### Row with lowest row"
      ],
      "metadata": {
        "id": "hAqDvv5rDVEt"
      }
    },
    {
      "cell_type": "code",
      "source": [
        "df.mean(axis = 1).idxmin()"
      ],
      "metadata": {
        "colab": {
          "base_uri": "https://localhost:8080/"
        },
        "id": "P_YT9HAUDUb1",
        "outputId": "e312096b-2c8e-4495-92c0-215a6bd7e5e3"
      },
      "execution_count": 23,
      "outputs": [
        {
          "output_type": "execute_result",
          "data": {
            "text/plain": [
              "17"
            ]
          },
          "metadata": {},
          "execution_count": 23
        }
      ]
    },
    {
      "cell_type": "markdown",
      "source": [
        "## **Question 11** Adding Columns"
      ],
      "metadata": {
        "id": "GOecGzfLDk9E"
      }
    },
    {
      "cell_type": "code",
      "source": [
        "df[\"f\"] = df.sum(axis = 1)\n",
        "df[\"g\"] = np.where(df[\"f\"] < 8, \"LT8\", \"GT8\")\n",
        "df"
      ],
      "metadata": {
        "colab": {
          "base_uri": "https://localhost:8080/",
          "height": 676
        },
        "id": "eUoDxaJLD57z",
        "outputId": "525b16c2-76af-4106-f1d8-db2657c9ad8f"
      },
      "execution_count": 24,
      "outputs": [
        {
          "output_type": "execute_result",
          "data": {
            "text/plain": [
              "           A         B         C         D         E         f    g\n",
              "0   1.619568  1.162054  1.291876  1.385040  1.275782  6.734320  LT8\n",
              "1   1.266788  1.590573  1.513634  1.866317  1.739000  7.976312  LT8\n",
              "2   1.512970  1.207527  1.907380  1.542461  1.657421  7.827760  LT8\n",
              "3   1.888095  1.348725  1.885484  1.777116  1.300698  8.200117  GT8\n",
              "4   1.889157  1.950601  1.876108  1.304642  1.166956  8.187465  GT8\n",
              "5   1.300001  1.914813  1.546896  1.880502  1.800039  8.442252  GT8\n",
              "6   1.005602  1.643578  1.165602  1.391769  1.986265  7.192815  LT8\n",
              "7   1.106668  1.620808  1.672049  1.074778  1.963526  7.437829  LT8\n",
              "8   1.870460  1.360363  1.052244  1.570359  1.087481  6.940907  LT8\n",
              "9   1.794591  1.379150  1.082462  1.071019  1.672623  6.999845  LT8\n",
              "10  1.369935  1.443664  1.034777  1.854407  1.486991  7.189775  LT8\n",
              "11  1.538601  1.730293  1.654946  1.080607  1.455841  7.460289  LT8\n",
              "12  1.998499  1.939298  1.147713  1.380965  1.337116  7.803591  LT8\n",
              "13  1.219440  1.705503  1.433112  1.221523  1.659816  7.239395  LT8\n",
              "14  1.584182  1.502546  1.585805  1.084026  1.528618  7.285177  LT8\n",
              "15  1.998081  1.599660  1.870421  1.036872  1.962513  8.467548  GT8\n",
              "16  1.382073  1.667859  1.772991  1.520362  1.889662  8.232948  GT8\n",
              "17  1.110890  1.215920  1.364980  1.440927  1.572125  6.704842  LT8\n",
              "18  1.841983  1.750483  1.387671  1.410524  1.981282  8.371943  GT8\n",
              "19  1.042664  1.295686  1.777383  1.687983  1.030215  6.833932  LT8"
            ],
            "text/html": [
              "\n",
              "  <div id=\"df-b105242e-1a4a-47b0-abdc-8c365a257baa\" class=\"colab-df-container\">\n",
              "    <div>\n",
              "<style scoped>\n",
              "    .dataframe tbody tr th:only-of-type {\n",
              "        vertical-align: middle;\n",
              "    }\n",
              "\n",
              "    .dataframe tbody tr th {\n",
              "        vertical-align: top;\n",
              "    }\n",
              "\n",
              "    .dataframe thead th {\n",
              "        text-align: right;\n",
              "    }\n",
              "</style>\n",
              "<table border=\"1\" class=\"dataframe\">\n",
              "  <thead>\n",
              "    <tr style=\"text-align: right;\">\n",
              "      <th></th>\n",
              "      <th>A</th>\n",
              "      <th>B</th>\n",
              "      <th>C</th>\n",
              "      <th>D</th>\n",
              "      <th>E</th>\n",
              "      <th>f</th>\n",
              "      <th>g</th>\n",
              "    </tr>\n",
              "  </thead>\n",
              "  <tbody>\n",
              "    <tr>\n",
              "      <th>0</th>\n",
              "      <td>1.619568</td>\n",
              "      <td>1.162054</td>\n",
              "      <td>1.291876</td>\n",
              "      <td>1.385040</td>\n",
              "      <td>1.275782</td>\n",
              "      <td>6.734320</td>\n",
              "      <td>LT8</td>\n",
              "    </tr>\n",
              "    <tr>\n",
              "      <th>1</th>\n",
              "      <td>1.266788</td>\n",
              "      <td>1.590573</td>\n",
              "      <td>1.513634</td>\n",
              "      <td>1.866317</td>\n",
              "      <td>1.739000</td>\n",
              "      <td>7.976312</td>\n",
              "      <td>LT8</td>\n",
              "    </tr>\n",
              "    <tr>\n",
              "      <th>2</th>\n",
              "      <td>1.512970</td>\n",
              "      <td>1.207527</td>\n",
              "      <td>1.907380</td>\n",
              "      <td>1.542461</td>\n",
              "      <td>1.657421</td>\n",
              "      <td>7.827760</td>\n",
              "      <td>LT8</td>\n",
              "    </tr>\n",
              "    <tr>\n",
              "      <th>3</th>\n",
              "      <td>1.888095</td>\n",
              "      <td>1.348725</td>\n",
              "      <td>1.885484</td>\n",
              "      <td>1.777116</td>\n",
              "      <td>1.300698</td>\n",
              "      <td>8.200117</td>\n",
              "      <td>GT8</td>\n",
              "    </tr>\n",
              "    <tr>\n",
              "      <th>4</th>\n",
              "      <td>1.889157</td>\n",
              "      <td>1.950601</td>\n",
              "      <td>1.876108</td>\n",
              "      <td>1.304642</td>\n",
              "      <td>1.166956</td>\n",
              "      <td>8.187465</td>\n",
              "      <td>GT8</td>\n",
              "    </tr>\n",
              "    <tr>\n",
              "      <th>5</th>\n",
              "      <td>1.300001</td>\n",
              "      <td>1.914813</td>\n",
              "      <td>1.546896</td>\n",
              "      <td>1.880502</td>\n",
              "      <td>1.800039</td>\n",
              "      <td>8.442252</td>\n",
              "      <td>GT8</td>\n",
              "    </tr>\n",
              "    <tr>\n",
              "      <th>6</th>\n",
              "      <td>1.005602</td>\n",
              "      <td>1.643578</td>\n",
              "      <td>1.165602</td>\n",
              "      <td>1.391769</td>\n",
              "      <td>1.986265</td>\n",
              "      <td>7.192815</td>\n",
              "      <td>LT8</td>\n",
              "    </tr>\n",
              "    <tr>\n",
              "      <th>7</th>\n",
              "      <td>1.106668</td>\n",
              "      <td>1.620808</td>\n",
              "      <td>1.672049</td>\n",
              "      <td>1.074778</td>\n",
              "      <td>1.963526</td>\n",
              "      <td>7.437829</td>\n",
              "      <td>LT8</td>\n",
              "    </tr>\n",
              "    <tr>\n",
              "      <th>8</th>\n",
              "      <td>1.870460</td>\n",
              "      <td>1.360363</td>\n",
              "      <td>1.052244</td>\n",
              "      <td>1.570359</td>\n",
              "      <td>1.087481</td>\n",
              "      <td>6.940907</td>\n",
              "      <td>LT8</td>\n",
              "    </tr>\n",
              "    <tr>\n",
              "      <th>9</th>\n",
              "      <td>1.794591</td>\n",
              "      <td>1.379150</td>\n",
              "      <td>1.082462</td>\n",
              "      <td>1.071019</td>\n",
              "      <td>1.672623</td>\n",
              "      <td>6.999845</td>\n",
              "      <td>LT8</td>\n",
              "    </tr>\n",
              "    <tr>\n",
              "      <th>10</th>\n",
              "      <td>1.369935</td>\n",
              "      <td>1.443664</td>\n",
              "      <td>1.034777</td>\n",
              "      <td>1.854407</td>\n",
              "      <td>1.486991</td>\n",
              "      <td>7.189775</td>\n",
              "      <td>LT8</td>\n",
              "    </tr>\n",
              "    <tr>\n",
              "      <th>11</th>\n",
              "      <td>1.538601</td>\n",
              "      <td>1.730293</td>\n",
              "      <td>1.654946</td>\n",
              "      <td>1.080607</td>\n",
              "      <td>1.455841</td>\n",
              "      <td>7.460289</td>\n",
              "      <td>LT8</td>\n",
              "    </tr>\n",
              "    <tr>\n",
              "      <th>12</th>\n",
              "      <td>1.998499</td>\n",
              "      <td>1.939298</td>\n",
              "      <td>1.147713</td>\n",
              "      <td>1.380965</td>\n",
              "      <td>1.337116</td>\n",
              "      <td>7.803591</td>\n",
              "      <td>LT8</td>\n",
              "    </tr>\n",
              "    <tr>\n",
              "      <th>13</th>\n",
              "      <td>1.219440</td>\n",
              "      <td>1.705503</td>\n",
              "      <td>1.433112</td>\n",
              "      <td>1.221523</td>\n",
              "      <td>1.659816</td>\n",
              "      <td>7.239395</td>\n",
              "      <td>LT8</td>\n",
              "    </tr>\n",
              "    <tr>\n",
              "      <th>14</th>\n",
              "      <td>1.584182</td>\n",
              "      <td>1.502546</td>\n",
              "      <td>1.585805</td>\n",
              "      <td>1.084026</td>\n",
              "      <td>1.528618</td>\n",
              "      <td>7.285177</td>\n",
              "      <td>LT8</td>\n",
              "    </tr>\n",
              "    <tr>\n",
              "      <th>15</th>\n",
              "      <td>1.998081</td>\n",
              "      <td>1.599660</td>\n",
              "      <td>1.870421</td>\n",
              "      <td>1.036872</td>\n",
              "      <td>1.962513</td>\n",
              "      <td>8.467548</td>\n",
              "      <td>GT8</td>\n",
              "    </tr>\n",
              "    <tr>\n",
              "      <th>16</th>\n",
              "      <td>1.382073</td>\n",
              "      <td>1.667859</td>\n",
              "      <td>1.772991</td>\n",
              "      <td>1.520362</td>\n",
              "      <td>1.889662</td>\n",
              "      <td>8.232948</td>\n",
              "      <td>GT8</td>\n",
              "    </tr>\n",
              "    <tr>\n",
              "      <th>17</th>\n",
              "      <td>1.110890</td>\n",
              "      <td>1.215920</td>\n",
              "      <td>1.364980</td>\n",
              "      <td>1.440927</td>\n",
              "      <td>1.572125</td>\n",
              "      <td>6.704842</td>\n",
              "      <td>LT8</td>\n",
              "    </tr>\n",
              "    <tr>\n",
              "      <th>18</th>\n",
              "      <td>1.841983</td>\n",
              "      <td>1.750483</td>\n",
              "      <td>1.387671</td>\n",
              "      <td>1.410524</td>\n",
              "      <td>1.981282</td>\n",
              "      <td>8.371943</td>\n",
              "      <td>GT8</td>\n",
              "    </tr>\n",
              "    <tr>\n",
              "      <th>19</th>\n",
              "      <td>1.042664</td>\n",
              "      <td>1.295686</td>\n",
              "      <td>1.777383</td>\n",
              "      <td>1.687983</td>\n",
              "      <td>1.030215</td>\n",
              "      <td>6.833932</td>\n",
              "      <td>LT8</td>\n",
              "    </tr>\n",
              "  </tbody>\n",
              "</table>\n",
              "</div>\n",
              "    <div class=\"colab-df-buttons\">\n",
              "\n",
              "  <div class=\"colab-df-container\">\n",
              "    <button class=\"colab-df-convert\" onclick=\"convertToInteractive('df-b105242e-1a4a-47b0-abdc-8c365a257baa')\"\n",
              "            title=\"Convert this dataframe to an interactive table.\"\n",
              "            style=\"display:none;\">\n",
              "\n",
              "  <svg xmlns=\"http://www.w3.org/2000/svg\" height=\"24px\" viewBox=\"0 -960 960 960\">\n",
              "    <path d=\"M120-120v-720h720v720H120Zm60-500h600v-160H180v160Zm220 220h160v-160H400v160Zm0 220h160v-160H400v160ZM180-400h160v-160H180v160Zm440 0h160v-160H620v160ZM180-180h160v-160H180v160Zm440 0h160v-160H620v160Z\"/>\n",
              "  </svg>\n",
              "    </button>\n",
              "\n",
              "  <style>\n",
              "    .colab-df-container {\n",
              "      display:flex;\n",
              "      gap: 12px;\n",
              "    }\n",
              "\n",
              "    .colab-df-convert {\n",
              "      background-color: #E8F0FE;\n",
              "      border: none;\n",
              "      border-radius: 50%;\n",
              "      cursor: pointer;\n",
              "      display: none;\n",
              "      fill: #1967D2;\n",
              "      height: 32px;\n",
              "      padding: 0 0 0 0;\n",
              "      width: 32px;\n",
              "    }\n",
              "\n",
              "    .colab-df-convert:hover {\n",
              "      background-color: #E2EBFA;\n",
              "      box-shadow: 0px 1px 2px rgba(60, 64, 67, 0.3), 0px 1px 3px 1px rgba(60, 64, 67, 0.15);\n",
              "      fill: #174EA6;\n",
              "    }\n",
              "\n",
              "    .colab-df-buttons div {\n",
              "      margin-bottom: 4px;\n",
              "    }\n",
              "\n",
              "    [theme=dark] .colab-df-convert {\n",
              "      background-color: #3B4455;\n",
              "      fill: #D2E3FC;\n",
              "    }\n",
              "\n",
              "    [theme=dark] .colab-df-convert:hover {\n",
              "      background-color: #434B5C;\n",
              "      box-shadow: 0px 1px 3px 1px rgba(0, 0, 0, 0.15);\n",
              "      filter: drop-shadow(0px 1px 2px rgba(0, 0, 0, 0.3));\n",
              "      fill: #FFFFFF;\n",
              "    }\n",
              "  </style>\n",
              "\n",
              "    <script>\n",
              "      const buttonEl =\n",
              "        document.querySelector('#df-b105242e-1a4a-47b0-abdc-8c365a257baa button.colab-df-convert');\n",
              "      buttonEl.style.display =\n",
              "        google.colab.kernel.accessAllowed ? 'block' : 'none';\n",
              "\n",
              "      async function convertToInteractive(key) {\n",
              "        const element = document.querySelector('#df-b105242e-1a4a-47b0-abdc-8c365a257baa');\n",
              "        const dataTable =\n",
              "          await google.colab.kernel.invokeFunction('convertToInteractive',\n",
              "                                                    [key], {});\n",
              "        if (!dataTable) return;\n",
              "\n",
              "        const docLinkHtml = 'Like what you see? Visit the ' +\n",
              "          '<a target=\"_blank\" href=https://colab.research.google.com/notebooks/data_table.ipynb>data table notebook</a>'\n",
              "          + ' to learn more about interactive tables.';\n",
              "        element.innerHTML = '';\n",
              "        dataTable['output_type'] = 'display_data';\n",
              "        await google.colab.output.renderOutput(dataTable, element);\n",
              "        const docLink = document.createElement('div');\n",
              "        docLink.innerHTML = docLinkHtml;\n",
              "        element.appendChild(docLink);\n",
              "      }\n",
              "    </script>\n",
              "  </div>\n",
              "\n",
              "\n",
              "    <div id=\"df-ced5b855-1493-46b2-a3da-1c8f0e4c92a5\">\n",
              "      <button class=\"colab-df-quickchart\" onclick=\"quickchart('df-ced5b855-1493-46b2-a3da-1c8f0e4c92a5')\"\n",
              "                title=\"Suggest charts\"\n",
              "                style=\"display:none;\">\n",
              "\n",
              "<svg xmlns=\"http://www.w3.org/2000/svg\" height=\"24px\"viewBox=\"0 0 24 24\"\n",
              "     width=\"24px\">\n",
              "    <g>\n",
              "        <path d=\"M19 3H5c-1.1 0-2 .9-2 2v14c0 1.1.9 2 2 2h14c1.1 0 2-.9 2-2V5c0-1.1-.9-2-2-2zM9 17H7v-7h2v7zm4 0h-2V7h2v10zm4 0h-2v-4h2v4z\"/>\n",
              "    </g>\n",
              "</svg>\n",
              "      </button>\n",
              "\n",
              "<style>\n",
              "  .colab-df-quickchart {\n",
              "      --bg-color: #E8F0FE;\n",
              "      --fill-color: #1967D2;\n",
              "      --hover-bg-color: #E2EBFA;\n",
              "      --hover-fill-color: #174EA6;\n",
              "      --disabled-fill-color: #AAA;\n",
              "      --disabled-bg-color: #DDD;\n",
              "  }\n",
              "\n",
              "  [theme=dark] .colab-df-quickchart {\n",
              "      --bg-color: #3B4455;\n",
              "      --fill-color: #D2E3FC;\n",
              "      --hover-bg-color: #434B5C;\n",
              "      --hover-fill-color: #FFFFFF;\n",
              "      --disabled-bg-color: #3B4455;\n",
              "      --disabled-fill-color: #666;\n",
              "  }\n",
              "\n",
              "  .colab-df-quickchart {\n",
              "    background-color: var(--bg-color);\n",
              "    border: none;\n",
              "    border-radius: 50%;\n",
              "    cursor: pointer;\n",
              "    display: none;\n",
              "    fill: var(--fill-color);\n",
              "    height: 32px;\n",
              "    padding: 0;\n",
              "    width: 32px;\n",
              "  }\n",
              "\n",
              "  .colab-df-quickchart:hover {\n",
              "    background-color: var(--hover-bg-color);\n",
              "    box-shadow: 0 1px 2px rgba(60, 64, 67, 0.3), 0 1px 3px 1px rgba(60, 64, 67, 0.15);\n",
              "    fill: var(--button-hover-fill-color);\n",
              "  }\n",
              "\n",
              "  .colab-df-quickchart-complete:disabled,\n",
              "  .colab-df-quickchart-complete:disabled:hover {\n",
              "    background-color: var(--disabled-bg-color);\n",
              "    fill: var(--disabled-fill-color);\n",
              "    box-shadow: none;\n",
              "  }\n",
              "\n",
              "  .colab-df-spinner {\n",
              "    border: 2px solid var(--fill-color);\n",
              "    border-color: transparent;\n",
              "    border-bottom-color: var(--fill-color);\n",
              "    animation:\n",
              "      spin 1s steps(1) infinite;\n",
              "  }\n",
              "\n",
              "  @keyframes spin {\n",
              "    0% {\n",
              "      border-color: transparent;\n",
              "      border-bottom-color: var(--fill-color);\n",
              "      border-left-color: var(--fill-color);\n",
              "    }\n",
              "    20% {\n",
              "      border-color: transparent;\n",
              "      border-left-color: var(--fill-color);\n",
              "      border-top-color: var(--fill-color);\n",
              "    }\n",
              "    30% {\n",
              "      border-color: transparent;\n",
              "      border-left-color: var(--fill-color);\n",
              "      border-top-color: var(--fill-color);\n",
              "      border-right-color: var(--fill-color);\n",
              "    }\n",
              "    40% {\n",
              "      border-color: transparent;\n",
              "      border-right-color: var(--fill-color);\n",
              "      border-top-color: var(--fill-color);\n",
              "    }\n",
              "    60% {\n",
              "      border-color: transparent;\n",
              "      border-right-color: var(--fill-color);\n",
              "    }\n",
              "    80% {\n",
              "      border-color: transparent;\n",
              "      border-right-color: var(--fill-color);\n",
              "      border-bottom-color: var(--fill-color);\n",
              "    }\n",
              "    90% {\n",
              "      border-color: transparent;\n",
              "      border-bottom-color: var(--fill-color);\n",
              "    }\n",
              "  }\n",
              "</style>\n",
              "\n",
              "      <script>\n",
              "        async function quickchart(key) {\n",
              "          const quickchartButtonEl =\n",
              "            document.querySelector('#' + key + ' button');\n",
              "          quickchartButtonEl.disabled = true;  // To prevent multiple clicks.\n",
              "          quickchartButtonEl.classList.add('colab-df-spinner');\n",
              "          try {\n",
              "            const charts = await google.colab.kernel.invokeFunction(\n",
              "                'suggestCharts', [key], {});\n",
              "          } catch (error) {\n",
              "            console.error('Error during call to suggestCharts:', error);\n",
              "          }\n",
              "          quickchartButtonEl.classList.remove('colab-df-spinner');\n",
              "          quickchartButtonEl.classList.add('colab-df-quickchart-complete');\n",
              "        }\n",
              "        (() => {\n",
              "          let quickchartButtonEl =\n",
              "            document.querySelector('#df-ced5b855-1493-46b2-a3da-1c8f0e4c92a5 button');\n",
              "          quickchartButtonEl.style.display =\n",
              "            google.colab.kernel.accessAllowed ? 'block' : 'none';\n",
              "        })();\n",
              "      </script>\n",
              "    </div>\n",
              "\n",
              "  <div id=\"id_cf4aa527-085b-4ee0-9fcf-8dfd436196ea\">\n",
              "    <style>\n",
              "      .colab-df-generate {\n",
              "        background-color: #E8F0FE;\n",
              "        border: none;\n",
              "        border-radius: 50%;\n",
              "        cursor: pointer;\n",
              "        display: none;\n",
              "        fill: #1967D2;\n",
              "        height: 32px;\n",
              "        padding: 0 0 0 0;\n",
              "        width: 32px;\n",
              "      }\n",
              "\n",
              "      .colab-df-generate:hover {\n",
              "        background-color: #E2EBFA;\n",
              "        box-shadow: 0px 1px 2px rgba(60, 64, 67, 0.3), 0px 1px 3px 1px rgba(60, 64, 67, 0.15);\n",
              "        fill: #174EA6;\n",
              "      }\n",
              "\n",
              "      [theme=dark] .colab-df-generate {\n",
              "        background-color: #3B4455;\n",
              "        fill: #D2E3FC;\n",
              "      }\n",
              "\n",
              "      [theme=dark] .colab-df-generate:hover {\n",
              "        background-color: #434B5C;\n",
              "        box-shadow: 0px 1px 3px 1px rgba(0, 0, 0, 0.15);\n",
              "        filter: drop-shadow(0px 1px 2px rgba(0, 0, 0, 0.3));\n",
              "        fill: #FFFFFF;\n",
              "      }\n",
              "    </style>\n",
              "    <button class=\"colab-df-generate\" onclick=\"generateWithVariable('df')\"\n",
              "            title=\"Generate code using this dataframe.\"\n",
              "            style=\"display:none;\">\n",
              "\n",
              "  <svg xmlns=\"http://www.w3.org/2000/svg\" height=\"24px\"viewBox=\"0 0 24 24\"\n",
              "       width=\"24px\">\n",
              "    <path d=\"M7,19H8.4L18.45,9,17,7.55,7,17.6ZM5,21V16.75L18.45,3.32a2,2,0,0,1,2.83,0l1.4,1.43a1.91,1.91,0,0,1,.58,1.4,1.91,1.91,0,0,1-.58,1.4L9.25,21ZM18.45,9,17,7.55Zm-12,3A5.31,5.31,0,0,0,4.9,8.1,5.31,5.31,0,0,0,1,6.5,5.31,5.31,0,0,0,4.9,4.9,5.31,5.31,0,0,0,6.5,1,5.31,5.31,0,0,0,8.1,4.9,5.31,5.31,0,0,0,12,6.5,5.46,5.46,0,0,0,6.5,12Z\"/>\n",
              "  </svg>\n",
              "    </button>\n",
              "    <script>\n",
              "      (() => {\n",
              "      const buttonEl =\n",
              "        document.querySelector('#id_cf4aa527-085b-4ee0-9fcf-8dfd436196ea button.colab-df-generate');\n",
              "      buttonEl.style.display =\n",
              "        google.colab.kernel.accessAllowed ? 'block' : 'none';\n",
              "\n",
              "      buttonEl.onclick = () => {\n",
              "        google.colab.notebook.generateWithVariable('df');\n",
              "      }\n",
              "      })();\n",
              "    </script>\n",
              "  </div>\n",
              "\n",
              "    </div>\n",
              "  </div>\n"
            ],
            "application/vnd.google.colaboratory.intrinsic+json": {
              "type": "dataframe",
              "variable_name": "df",
              "summary": "{\n  \"name\": \"df\",\n  \"rows\": 20,\n  \"fields\": [\n    {\n      \"column\": \"A\",\n      \"properties\": {\n        \"dtype\": \"number\",\n        \"std\": 0.3340740633598114,\n        \"min\": 1.0056017299620172,\n        \"max\": 1.9984988764690823,\n        \"num_unique_values\": 20,\n        \"samples\": [\n          1.619567708568307,\n          1.110889726726669,\n          1.9980812509695816\n        ],\n        \"semantic_type\": \"\",\n        \"description\": \"\"\n      }\n    },\n    {\n      \"column\": \"B\",\n      \"properties\": {\n        \"dtype\": \"number\",\n        \"std\": 0.24462981948408372,\n        \"min\": 1.1620542745010058,\n        \"max\": 1.9506010075795066,\n        \"num_unique_values\": 20,\n        \"samples\": [\n          1.1620542745010058,\n          1.2159204784691786,\n          1.5996601571824667\n        ],\n        \"semantic_type\": \"\",\n        \"description\": \"\"\n      }\n    },\n    {\n      \"column\": \"C\",\n      \"properties\": {\n        \"dtype\": \"number\",\n        \"std\": 0.30033679299212535,\n        \"min\": 1.0347771970283204,\n        \"max\": 1.9073800651587205,\n        \"num_unique_values\": 20,\n        \"samples\": [\n          1.2918762161621742,\n          1.3649801708135465,\n          1.870420866343211\n        ],\n        \"semantic_type\": \"\",\n        \"description\": \"\"\n      }\n    },\n    {\n      \"column\": \"D\",\n      \"properties\": {\n        \"dtype\": \"number\",\n        \"std\": 0.28264950426819724,\n        \"min\": 1.0368723172114915,\n        \"max\": 1.8805024064890636,\n        \"num_unique_values\": 20,\n        \"samples\": [\n          1.385040251774471,\n          1.4409265421301456,\n          1.0368723172114915\n        ],\n        \"semantic_type\": \"\",\n        \"description\": \"\"\n      }\n    },\n    {\n      \"column\": \"E\",\n      \"properties\": {\n        \"dtype\": \"number\",\n        \"std\": 0.30622280026415544,\n        \"min\": 1.030215034199721,\n        \"max\": 1.9862650653597336,\n        \"num_unique_values\": 20,\n        \"samples\": [\n          1.2757818650372452,\n          1.5721253667921433,\n          1.962513348782871\n        ],\n        \"semantic_type\": \"\",\n        \"description\": \"\"\n      }\n    },\n    {\n      \"column\": \"f\",\n      \"properties\": {\n        \"dtype\": \"number\",\n        \"std\": 0.6038847148326929,\n        \"min\": 6.704842284931683,\n        \"max\": 8.467547940489622,\n        \"num_unique_values\": 20,\n        \"samples\": [\n          6.734320316043204,\n          6.704842284931683,\n          8.467547940489622\n        ],\n        \"semantic_type\": \"\",\n        \"description\": \"\"\n      }\n    },\n    {\n      \"column\": \"g\",\n      \"properties\": {\n        \"dtype\": \"category\",\n        \"num_unique_values\": 2,\n        \"samples\": [\n          \"GT8\",\n          \"LT8\"\n        ],\n        \"semantic_type\": \"\",\n        \"description\": \"\"\n      }\n    }\n  ]\n}"
            }
          },
          "metadata": {},
          "execution_count": 24
        }
      ]
    },
    {
      "cell_type": "markdown",
      "source": [
        "### Number of rows in \"g\" having column values \"LT8\""
      ],
      "metadata": {
        "id": "WhFyqx_NEpEN"
      }
    },
    {
      "cell_type": "code",
      "source": [
        "number_of_rows = (df[\"g\"] == \"LT8\").sum()\n",
        "print(number_of_rows)"
      ],
      "metadata": {
        "colab": {
          "base_uri": "https://localhost:8080/"
        },
        "id": "nE5ddGdYEZ_H",
        "outputId": "4eb823c0-d285-4c1a-f6c0-48a029be9568"
      },
      "execution_count": 26,
      "outputs": [
        {
          "output_type": "stream",
          "name": "stdout",
          "text": [
            "14\n"
          ]
        }
      ]
    },
    {
      "cell_type": "markdown",
      "source": [
        "### Standard Deviation of the column \"f\" for the values in \"g\" is \"LT8\""
      ],
      "metadata": {
        "id": "E6G5vFgGE3fW"
      }
    },
    {
      "cell_type": "code",
      "source": [
        "stdev_conditional = np.std(df[\"f\"][df[\"g\"] == \"LT8\"])\n",
        "stdev_conditional"
      ],
      "metadata": {
        "colab": {
          "base_uri": "https://localhost:8080/"
        },
        "id": "7DHOTg6XElvs",
        "outputId": "e51ec08c-7f95-4371-9674-3d17f7d279df"
      },
      "execution_count": 27,
      "outputs": [
        {
          "output_type": "execute_result",
          "data": {
            "text/plain": [
              "0.3917679689872138"
            ]
          },
          "metadata": {},
          "execution_count": 27
        }
      ]
    },
    {
      "cell_type": "markdown",
      "source": [
        "### Standard Deviation of the column \"f\" for the values in \"g\" is \"GT8\""
      ],
      "metadata": {
        "id": "rxv_FfJAFbq_"
      }
    },
    {
      "cell_type": "code",
      "source": [
        "stdev_conditional2 = np.std(df[\"f\"][df[\"g\"] == \"GT8\"])\n",
        "stdev_conditional2"
      ],
      "metadata": {
        "colab": {
          "base_uri": "https://localhost:8080/"
        },
        "id": "4kaQWQJ-Fd6P",
        "outputId": "188d4afa-23af-4b1c-d99d-4d330dfc3e8d"
      },
      "execution_count": 28,
      "outputs": [
        {
          "output_type": "execute_result",
          "data": {
            "text/plain": [
              "0.11465705508323128"
            ]
          },
          "metadata": {},
          "execution_count": 28
        }
      ]
    },
    {
      "cell_type": "markdown",
      "source": [
        "## **Question 12** Broadcasting in ```Numpy```\n",
        "### Broadcasting is a powerful numpy feature for arithmetic operations between arrays of different shapes. The smaller array is streched or broadcasted across the larger array to make their shapes compatible"
      ],
      "metadata": {
        "id": "CLrnwBJ5FiDC"
      }
    },
    {
      "cell_type": "code",
      "source": [
        "a = np.array([[1, 2, 3],\n",
        "              [4, 5, 6],\n",
        "              [7, 8, 9]])\n",
        "\n",
        "b = np.array([10, 20, 30])\n",
        "\n",
        "print(\"Array 'a' (shape {}):\".format(a.shape))\n",
        "print(a)\n",
        "print(\"\\nArray 'b' (shape {}):\".format(b.shape))\n",
        "print(b)\n",
        "\n",
        "c = a + b\n",
        "\n",
        "print(\"\\nResult of a + b (shape {}):\".format(c.shape))\n",
        "print(c)"
      ],
      "metadata": {
        "colab": {
          "base_uri": "https://localhost:8080/"
        },
        "id": "4iswj5rRF5W8",
        "outputId": "4fc93556-7190-4090-9c11-6ae00f99a37a"
      },
      "execution_count": 51,
      "outputs": [
        {
          "output_type": "stream",
          "name": "stdout",
          "text": [
            "Array 'a' (shape (3, 3)):\n",
            "[[1 2 3]\n",
            " [4 5 6]\n",
            " [7 8 9]]\n",
            "\n",
            "Array 'b' (shape (3,)):\n",
            "[10 20 30]\n",
            "\n",
            "Result of a + b (shape (3, 3)):\n",
            "[[11 22 33]\n",
            " [14 25 36]\n",
            " [17 28 39]]\n"
          ]
        }
      ]
    },
    {
      "cell_type": "markdown",
      "source": [
        "As seen in the above example the shape for both the arrays are different but we are still able to add the arrays, this happens because of broadcasting, the array which is smaller in size which is array b in the above example is streched and added to a."
      ],
      "metadata": {
        "id": "J4yy2cWzMWVC"
      }
    },
    {
      "cell_type": "code",
      "source": [
        "a = np.array([[1, 2, 3],\n",
        "              [4, 5, 6],\n",
        "              [7, 8, 9]])\n",
        "\n",
        "b = np.array([10, 20, 30])\n",
        "\n",
        "print(\"Array 'a' (shape {}):\".format(a.shape))\n",
        "print(a)\n",
        "print(\"\\nArray 'b' (shape {}):\".format(b.shape))\n",
        "print(b)\n",
        "\n",
        "c = a * b\n",
        "\n",
        "print(\"\\nResult of a * b (shape {}):\".format(c.shape))\n",
        "print(c)"
      ],
      "metadata": {
        "colab": {
          "base_uri": "https://localhost:8080/"
        },
        "id": "bRKEUVJTMylJ",
        "outputId": "f720d96f-6240-46b1-f46f-6f603eb34472"
      },
      "execution_count": 52,
      "outputs": [
        {
          "output_type": "stream",
          "name": "stdout",
          "text": [
            "Array 'a' (shape (3, 3)):\n",
            "[[1 2 3]\n",
            " [4 5 6]\n",
            " [7 8 9]]\n",
            "\n",
            "Array 'b' (shape (3,)):\n",
            "[10 20 30]\n",
            "\n",
            "Result of a * b (shape (3, 3)):\n",
            "[[ 10  40  90]\n",
            " [ 40 100 180]\n",
            " [ 70 160 270]]\n"
          ]
        }
      ]
    },
    {
      "cell_type": "markdown",
      "source": [
        "Similar thing happens with multiplication"
      ],
      "metadata": {
        "id": "dtK7sygoM6wx"
      }
    },
    {
      "cell_type": "code",
      "source": [
        "a = np.array([[1, 2, 3],\n",
        "              [4, 5, 6],\n",
        "              [7, 8, 9]])\n",
        "\n",
        "b = np.array([10, 20, 30])\n",
        "\n",
        "print(\"Array 'a' (shape {}):\".format(a.shape))\n",
        "print(a)\n",
        "print(\"\\nArray 'b' (shape {}):\".format(b.shape))\n",
        "print(b)\n",
        "\n",
        "c = b / a\n",
        "\n",
        "print(\"\\nResult of b / a (shape {}):\".format(c.shape))\n",
        "print(c)"
      ],
      "metadata": {
        "colab": {
          "base_uri": "https://localhost:8080/"
        },
        "id": "Yi9cOPpGM-IJ",
        "outputId": "f564176e-5f64-4c62-a778-7b22886725d8"
      },
      "execution_count": 55,
      "outputs": [
        {
          "output_type": "stream",
          "name": "stdout",
          "text": [
            "Array 'a' (shape (3, 3)):\n",
            "[[1 2 3]\n",
            " [4 5 6]\n",
            " [7 8 9]]\n",
            "\n",
            "Array 'b' (shape (3,)):\n",
            "[10 20 30]\n",
            "\n",
            "Result of b / a (shape (3, 3)):\n",
            "[[10.         10.         10.        ]\n",
            " [ 2.5         4.          5.        ]\n",
            " [ 1.42857143  2.5         3.33333333]]\n"
          ]
        }
      ]
    },
    {
      "cell_type": "markdown",
      "source": [
        "## **Question 13** ```argmin``` of an array"
      ],
      "metadata": {
        "id": "W9larSj7GjYA"
      }
    },
    {
      "cell_type": "code",
      "source": [
        "def argminf(M):\n",
        "  n = len(M)\n",
        "  minele = M[0];\n",
        "  for i in range(n):\n",
        "    if minele >= M[i]:\n",
        "      minele = M[i]\n",
        "      minindex = i\n",
        "  return minindex\n",
        "\n",
        "# if array is 1D\n",
        "arr = np.random.randint(1, 64, size = 20)\n",
        "display(arr)\n",
        "print()\n",
        "# if array is not 1D, then we'll flatten it\n",
        "arrn = np.random.randint(1, 64, size = [5, 3, 2])\n",
        "display(arrn)\n",
        "print()\n",
        "arrn.flatten()"
      ],
      "metadata": {
        "colab": {
          "base_uri": "https://localhost:8080/",
          "height": 451
        },
        "id": "gDMXU5ouGpm9",
        "outputId": "8aaa345a-6c3b-4d69-98e4-178628388122"
      },
      "execution_count": 46,
      "outputs": [
        {
          "output_type": "display_data",
          "data": {
            "text/plain": [
              "array([26, 11, 46,  4, 59,  7, 32, 30, 44,  6, 50,  9, 44, 61, 43, 26, 44,\n",
              "        6,  9, 47])"
            ]
          },
          "metadata": {}
        },
        {
          "output_type": "stream",
          "name": "stdout",
          "text": [
            "\n"
          ]
        },
        {
          "output_type": "display_data",
          "data": {
            "text/plain": [
              "array([[[22, 13],\n",
              "        [ 2, 43],\n",
              "        [27, 25]],\n",
              "\n",
              "       [[25, 50],\n",
              "        [20, 21],\n",
              "        [46,  3]],\n",
              "\n",
              "       [[55, 60],\n",
              "        [21, 14],\n",
              "        [61, 37]],\n",
              "\n",
              "       [[ 3, 55],\n",
              "        [ 6, 53],\n",
              "        [63, 30]],\n",
              "\n",
              "       [[60, 34],\n",
              "        [60, 63],\n",
              "        [48, 18]]])"
            ]
          },
          "metadata": {}
        },
        {
          "output_type": "stream",
          "name": "stdout",
          "text": [
            "\n"
          ]
        },
        {
          "output_type": "execute_result",
          "data": {
            "text/plain": [
              "array([22, 13,  2, 43, 27, 25, 25, 50, 20, 21, 46,  3, 55, 60, 21, 14, 61,\n",
              "       37,  3, 55,  6, 53, 63, 30, 60, 34, 60, 63, 48, 18])"
            ]
          },
          "metadata": {},
          "execution_count": 46
        }
      ]
    },
    {
      "cell_type": "code",
      "source": [
        "print(\"For 1D array, the minimum index is\")\n",
        "display(argminf(arr))\n",
        "print(\"For 1D array using the argmin function:\")\n",
        "print(np.argmin(arr))\n",
        "print()\n",
        "print(\"For any array other than 1D the min arg after flattening is:\")\n",
        "print(argminf(arrn.flatten()))\n",
        "print(\"For any array other than 1D the min arg using the argmin function is:\")\n",
        "print(np.argmin(arrn))"
      ],
      "metadata": {
        "colab": {
          "base_uri": "https://localhost:8080/",
          "height": 173
        },
        "id": "ReZ40YLlJUfX",
        "outputId": "a1b27a49-441e-40c8-d6a0-3699ef952c52"
      },
      "execution_count": 50,
      "outputs": [
        {
          "output_type": "stream",
          "name": "stdout",
          "text": [
            "For 1D array, the minimum index is\n"
          ]
        },
        {
          "output_type": "display_data",
          "data": {
            "text/plain": [
              "3"
            ]
          },
          "metadata": {}
        },
        {
          "output_type": "stream",
          "name": "stdout",
          "text": [
            "For 1D array using the argmin function:\n",
            "3\n",
            "\n",
            "For any array other than 1D the min arg after flattening is:\n",
            "2\n",
            "For any array other than 1D the min arg using the argmin function is:\n",
            "2\n"
          ]
        }
      ]
    }
  ]
}